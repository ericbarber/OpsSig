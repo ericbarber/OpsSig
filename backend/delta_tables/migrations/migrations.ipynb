{
 "cells": [
  {
   "cell_type": "code",
   "execution_count": null,
   "id": "ece39a92-c3df-4008-8add-b2f2b2af852e",
   "metadata": {},
   "outputs": [],
   "source": [
    "spark.conf.get(\"spark.app.name\")\n",
    "from pyspark.sql import SparkSession, Row\n",
    "from pyspark.sql.types import StructType, StructField, StringType, TimestampType\n",
    "import pyspark.sql.functions as F\n",
    "from delta.tables import DeltaTable\n",
    "    \n",
    "def migration_v001(spark: SparkSession):\n",
    "    migration_version = 'v0.0.1'\n",
    "    migration_details = 'Create cdo schema and cdo.migration_log_fact table'\n",
    "\n",
    "    try:\n",
    "        schema_name = \"cdo\"\n",
    "        spark.sql(\"SHOW SCHEMAS\").show()\n",
    "        spark.sql(\"CREATE SCHEMA IF NOT EXISTS cdo\")\n",
    "        spark.sql(f\"SHOW TABLES IN {schema_name}\").show()\n",
    "    \n",
    "    except Exception as err:\n",
    "        print(err)\n",
    "    \n",
    "    migration_log_name = 'cdo.opssig_migration_log_fact'\n",
    "    migration_log_schema = StructType([\n",
    "        StructField('version', StringType(), False),\n",
    "        StructField('details', StringType(), True),\n",
    "        StructField('updated_timestamp', TimestampType(), True),\n",
    "    ])\n",
    "    created_log = DeltaTable.createIfNotExists(spark) \\\n",
    "        .tableName(migration_log_name) \\\n",
    "        .addColumns(migration_log_schema) \\\n",
    "        .execute()\n",
    "    \n",
    "    insert_data = [Row(version=migration_version, details=migration_details)]\n",
    "    insert_df = spark.createDataFrame(insert_data)\n",
    "    delta_table = DeltaTable.forName(spark, migration_log_name)\n",
    "    \n",
    "    delta_table.alias(\"target\").merge(\n",
    "        insert_df.alias(\"source\"),\n",
    "        \"target.version = source.version\") \\\n",
    "        .whenMatchedUpdate(\n",
    "            set={\n",
    "                'details': 'source.details',\n",
    "                'updated_timestamp': F.current_timestamp()\n",
    "            }\n",
    "        ) \\\n",
    "        .whenNotMatchedInsert(\n",
    "            values={\n",
    "                'version': 'source.version',\n",
    "                'details': 'source.details',\n",
    "                'updated_timestamp': F.current_timestamp()\n",
    "            }\n",
    "        ).execute()\n",
    "        \n",
    "migration_v001(spark)"
   ]
  },
  {
   "cell_type": "code",
   "execution_count": null,
   "id": "a27acd0a-c628-4c6b-947a-3b8767b627c1",
   "metadata": {},
   "outputs": [],
   "source": [
    "%run ./migration_v001.py"
   ]
  },
  {
   "cell_type": "code",
   "execution_count": null,
   "id": "53a5b871-4104-441a-9a5a-adbae4e15902",
   "metadata": {},
   "outputs": [],
   "source": [
    "initialize_database(spark)"
   ]
  },
  {
   "cell_type": "code",
   "execution_count": null,
   "id": "9033c2f3-e934-4e63-8af4-607f49635805",
   "metadata": {},
   "outputs": [],
   "source": [
    "migration_log_name = 'cdo.opssig_migration_log_fact'\n",
    "delta_table = DeltaTable.forName(spark, migration_log_name)\n",
    "delta_df = delta_table.toDF()\n",
    "print(type(delta_df))\n",
    "print(delta_df.count())\n",
    "for row in delta_df:\n",
    "    print(row)"
   ]
  }
 ],
 "metadata": {
  "kernelspec": {
   "display_name": "Python 3 (ipykernel)",
   "language": "python",
   "name": "python3"
  },
  "language_info": {
   "codemirror_mode": {
    "name": "ipython",
    "version": 3
   },
   "file_extension": ".py",
   "mimetype": "text/x-python",
   "name": "python",
   "nbconvert_exporter": "python",
   "pygments_lexer": "ipython3",
   "version": "3.8.10"
  }
 },
 "nbformat": 4,
 "nbformat_minor": 5
}
