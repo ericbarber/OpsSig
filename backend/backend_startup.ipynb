{
 "cells": [
  {
   "cell_type": "code",
   "execution_count": 6,
   "id": "82329d4f-92c6-44aa-a8e5-32f11109a907",
   "metadata": {},
   "outputs": [],
   "source": [
    "import sys\n",
    "import os\n",
    "\n",
    "# Add the parent directory to sys.path\n",
    "sys.path.append(os.path.abspath(os.path.join(os.getcwd(), '..')))\n"
   ]
  },
  {
   "cell_type": "code",
   "execution_count": null,
   "id": "bbebb566-05aa-491f-bd5b-8a1253d3756b",
   "metadata": {},
   "outputs": [],
   "source": [
    "# Get the current Spark session\n",
    "spark = SparkSession.builder.getOrCreate()\n",
    "\n",
    "# View the current Spark session configurations\n",
    "# for key, value in spark.sparkContext.getConf().getAll():\n",
    "#    print(f\"{key} = {value}\")"
   ]
  },
  {
   "cell_type": "code",
   "execution_count": null,
   "id": "a9c71158-aba7-4ea7-89f7-0d1ffee073c2",
   "metadata": {},
   "outputs": [],
   "source": [
    "%run initialize_db.py"
   ]
  },
  {
   "cell_type": "markdown",
   "id": "ddac094f-d3d8-45ee-b059-0e475320f067",
   "metadata": {},
   "source": [
    "# Insert, update, merge, and delete mock data"
   ]
  },
  {
   "cell_type": "code",
   "execution_count": null,
   "id": "a68cec2f-c069-4df2-a44e-7006ce4ef709",
   "metadata": {},
   "outputs": [],
   "source": [
    "%run tables/controls"
   ]
  },
  {
   "cell_type": "code",
   "execution_count": null,
   "id": "1ce11a6d-6eaa-4eba-92f0-f1becd4bb4c0",
   "metadata": {},
   "outputs": [],
   "source": [
    "%run tables/departments"
   ]
  },
  {
   "cell_type": "code",
   "execution_count": null,
   "id": "7535c546-a5fc-4fce-8045-d7f18593cf99",
   "metadata": {},
   "outputs": [],
   "source": [
    "%run tables/features"
   ]
  }
 ],
 "metadata": {
  "kernelspec": {
   "display_name": "Python 3 (ipykernel)",
   "language": "python",
   "name": "python3"
  },
  "language_info": {
   "codemirror_mode": {
    "name": "ipython",
    "version": 3
   },
   "file_extension": ".py",
   "mimetype": "text/x-python",
   "name": "python",
   "nbconvert_exporter": "python",
   "pygments_lexer": "ipython3",
   "version": "3.8.10"
  }
 },
 "nbformat": 4,
 "nbformat_minor": 5
}
